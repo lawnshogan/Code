{
 "cells": [
  {
   "cell_type": "code",
   "execution_count": 1,
   "metadata": {},
   "outputs": [],
   "source": [
    "import PyPDF2\n",
    "import tkinter as tk\n",
    "from tkinter import filedialog"
   ]
  },
  {
   "cell_type": "code",
   "execution_count": 2,
   "metadata": {},
   "outputs": [],
   "source": [
    "\n",
    "\n",
    "root = tk.Tk()\n",
    "root.withdraw()\n",
    "\n",
    "filepath = filedialog.askopenfilename()\n",
    "\n",
    "# Open the selected PDF file\n",
    "with open(filepath, \"rb\") as file:\n",
    "    # Create a PDF reader object\n",
    "    reader = PyPDF2.PdfFileReader(file)\n",
    "    # Get the number of pages in the PDF\n",
    "    num_pages = reader.numPages\n",
    "    # Create a variable to store the text\n",
    "    text = \"\"\n",
    "    # Loop through the pages\n",
    "    for i in range(num_pages):\n",
    "        # Get the page object\n",
    "        page = reader.getPage(i)\n",
    "        # Extract the text from the page\n",
    "        text += page.extractText()\n",
    "    # split the text into a list of lines\n",
    "    lines = text.split(\"\\n\")\n",
    "    # create variable to store the modified text\n",
    "    new_text = \"{:^120}\".format(\"Legal Description Calls\") + \"\\n\\n\"\n",
    "    # create a flag to check if the word has been found\n",
    "    found = False\n",
    "    # loop through the lines\n",
    "    for line in lines:\n",
    "        # check if the line contains \"beginning\" or \"Beginning\"\n",
    "        if \"beginning\" in line.lower() or \"Beginning\" in line:\n",
    "            found = True\n",
    "        if found:\n",
    "            if \"The above described\" in line:\n",
    "                break\n",
    "            # check if the line contains \"thence\" or \"Thence\"\n",
    "            if \"thence\" in line.lower() or \"Thence\" in line:\n",
    "                new_text += \"\\n\\n\" + line # added a new line\n",
    "            else:\n",
    "                new_text += \"\\n\" + line\n",
    "    # write the modified text to a txt file\n",
    "    with open(\"C:/Users/shawn/DataScienceMaster/Code/Legal Description - NEW.txt\", \"w\", encoding=\"utf-8\") as text_file:\n",
    "        text_file.write(new_text)\n"
   ]
  }
 ],
 "metadata": {
  "kernelspec": {
   "display_name": "Python 3",
   "language": "python",
   "name": "python3"
  },
  "language_info": {
   "codemirror_mode": {
    "name": "ipython",
    "version": 3
   },
   "file_extension": ".py",
   "mimetype": "text/x-python",
   "name": "python",
   "nbconvert_exporter": "python",
   "pygments_lexer": "ipython3",
   "version": "3.10.8"
  },
  "orig_nbformat": 4,
  "vscode": {
   "interpreter": {
    "hash": "cb072b76bab4497a14f8696eedcbdbffefe9e5c9bc41235f56490e1c185d667c"
   }
  }
 },
 "nbformat": 4,
 "nbformat_minor": 2
}
