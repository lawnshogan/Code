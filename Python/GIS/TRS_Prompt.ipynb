{
 "cells": [
  {
   "cell_type": "code",
   "execution_count": null,
   "metadata": {},
   "outputs": [
    {
     "ename": "",
     "evalue": "",
     "output_type": "error",
     "traceback": [
      "\u001b[1;31mRunning cells with 'c:\\USERS\\LOGANS1\\APPDATA\\LOCAL\\ESRI\\CONDA\\ENVS\\ARCPY_CLONE\\PYTHON.EXE' requires ipykernel package.\n",
      "\u001b[1;31mRun the following command to install 'ipykernel' into the Python environment. \n",
      "\u001b[1;31mCommand: 'conda install -p c:\\USERS\\LOGANS1\\APPDATA\\LOCAL\\ESRI\\CONDA\\ENVS\\ARCPY_CLONE ipykernel --update-deps --force-reinstall'"
     ]
    }
   ],
   "source": [
    "import arcpy"
   ]
  },
  {
   "cell_type": "code",
   "execution_count": null,
   "metadata": {},
   "outputs": [],
   "source": [
    "# Function that prompts the user to input a Township/Range:\n",
    "\n",
    "def get_twp_range(parameter_index):\n",
    "  twp_range = arcpy.GetParameterAsText(parameter_index)\n",
    "  return twp_range"
   ]
  },
  {
   "cell_type": "code",
   "execution_count": null,
   "metadata": {},
   "outputs": [
    {
     "ename": "NameError",
     "evalue": "name 'arcpy' is not defined",
     "output_type": "error",
     "traceback": [
      "\u001b[1;31m---------------------------------------------------------------------------\u001b[0m",
      "\u001b[1;31mNameError\u001b[0m                                 Traceback (most recent call last)",
      "\u001b[1;32m<ipython-input-3-8d58755515a8>\u001b[0m in \u001b[0;36m<module>\u001b[1;34m\u001b[0m\n\u001b[0;32m      6\u001b[0m \u001b[1;33m\u001b[0m\u001b[0m\n\u001b[0;32m      7\u001b[0m \u001b[1;31m# Get the user-specified Township/Range\u001b[0m\u001b[1;33m\u001b[0m\u001b[1;33m\u001b[0m\u001b[1;33m\u001b[0m\u001b[0m\n\u001b[1;32m----> 8\u001b[1;33m \u001b[0mtwp_range\u001b[0m \u001b[1;33m=\u001b[0m \u001b[0mget_twp_range\u001b[0m\u001b[1;33m(\u001b[0m\u001b[1;36m0\u001b[0m\u001b[1;33m)\u001b[0m\u001b[1;33m\u001b[0m\u001b[1;33m\u001b[0m\u001b[0m\n\u001b[0m",
      "\u001b[1;32m<ipython-input-2-d41d2d84a9e9>\u001b[0m in \u001b[0;36mget_twp_range\u001b[1;34m(parameter_index)\u001b[0m\n\u001b[0;32m      2\u001b[0m \u001b[1;33m\u001b[0m\u001b[0m\n\u001b[0;32m      3\u001b[0m \u001b[1;32mdef\u001b[0m \u001b[0mget_twp_range\u001b[0m\u001b[1;33m(\u001b[0m\u001b[0mparameter_index\u001b[0m\u001b[1;33m)\u001b[0m\u001b[1;33m:\u001b[0m\u001b[1;33m\u001b[0m\u001b[1;33m\u001b[0m\u001b[0m\n\u001b[1;32m----> 4\u001b[1;33m   \u001b[0mtwp_range\u001b[0m \u001b[1;33m=\u001b[0m \u001b[0marcpy\u001b[0m\u001b[1;33m.\u001b[0m\u001b[0mGetParameterAsText\u001b[0m\u001b[1;33m(\u001b[0m\u001b[0mparameter_index\u001b[0m\u001b[1;33m)\u001b[0m\u001b[1;33m\u001b[0m\u001b[1;33m\u001b[0m\u001b[0m\n\u001b[0m\u001b[0;32m      5\u001b[0m   \u001b[1;32mreturn\u001b[0m \u001b[0mtwp_range\u001b[0m\u001b[1;33m\u001b[0m\u001b[1;33m\u001b[0m\u001b[0m\n",
      "\u001b[1;31mNameError\u001b[0m: name 'arcpy' is not defined"
     ]
    }
   ],
   "source": [
    "# Set the label field name\n",
    "label_field = \"TWNSHPLAB\"\n",
    "\n",
    "# Set the layer variable\n",
    "layer = r\"C:\\Path\\To\\TownshipPLSS.gdb\\TownshipPLSS\"\n",
    "\n",
    "# Get the user-specified Township/Range\n",
    "twp_range = get_twp_range(0)"
   ]
  },
  {
   "cell_type": "code",
   "execution_count": null,
   "metadata": {},
   "outputs": [],
   "source": [
    "# Create a search cursor to iterate through the Township PLSS GIS layer\n",
    "cursor = arcpy.da.SearchCursor(layer, [label_field])\n",
    "\n",
    "# Iterate through the cursor and select the feature with the matching label\n",
    "for row in cursor:\n",
    "  if row[0] == twp_range:\n",
    "    arcpy.SelectLayerByAttribute_management(layer, \"ADD_TO_SELECTION\", f\"{label_field} = '{twp_range}'\")"
   ]
  },
  {
   "cell_type": "code",
   "execution_count": null,
   "metadata": {},
   "outputs": [],
   "source": [
    "# Clear the selection after the feature has been selected\n",
    "arcpy.SelectLayerByAttribute_management(layer, \"CLEAR_SELECTION\")"
   ]
  }
 ],
 "metadata": {
  "kernelspec": {
   "display_name": "Python 3.9 (XPython)",
   "language": "python",
   "name": "xpython"
  },
  "language_info": {
   "codemirror_mode": {
    "name": "ipython",
    "version": 3
   },
   "file_extension": ".py",
   "mimetype": "text/x-python",
   "name": "python",
   "nbconvert_exporter": "python",
   "pygments_lexer": "ipython3",
   "version": "3.9.11 [MSC v.1931 64 bit (AMD64)]"
  },
  "orig_nbformat": 4,
  "vscode": {
   "interpreter": {
    "hash": "bf07751e4cc6bb956f0e5c13cfef62092223c9b778bd5fd0b9fc50ec5809658b"
   }
  }
 },
 "nbformat": 4,
 "nbformat_minor": 2
}
