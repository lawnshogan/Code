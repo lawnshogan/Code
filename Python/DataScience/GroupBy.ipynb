{
 "cells": [
  {
   "cell_type": "code",
   "execution_count": null,
   "metadata": {},
   "outputs": [],
   "source": [
    "import pandas as pd\n",
    "\n",
    "df = pd.read_excel(\"C:\\\\Users\\\\logans1\\\\Desktop\\\\Excel_GroupBy\\\\Leases - Legal update.xlsx\", sheet_name=\"Sheet1\")\n",
    "display(df)"
   ]
  },
  {
   "cell_type": "code",
   "execution_count": null,
   "metadata": {},
   "outputs": [],
   "source": [
    "# Convert the \"Legal Description\" column to a string type before grouping\n",
    "df[\"Legal Description\"] = df[\"Legal Description\"].astype(str)"
   ]
  },
  {
   "cell_type": "code",
   "execution_count": null,
   "metadata": {},
   "outputs": [],
   "source": [
    "# Group the data by the \"Lease Number\" column. You can use the groupby() function from the pandas library to group the data by the \"Lease Number\" column:\n",
    "grouped_df = df.groupby(\"Lease Number\")"
   ]
  },
  {
   "cell_type": "code",
   "execution_count": null,
   "metadata": {},
   "outputs": [],
   "source": [
    "# You can define a function that takes a group as input and returns a string that is the concatenation of the values in the \"Legal Description\" column, separated by commas. \n",
    "# You can convert the values to strings using the str() function:\n",
    "def combine_descriptions(group):\n",
    "    return \", \".join(str(x) for x in group[\"Legal Description\"])"
   ]
  },
  {
   "cell_type": "code",
   "execution_count": null,
   "metadata": {},
   "outputs": [],
   "source": [
    "# Apply the function to each group. You can use the apply() function to apply the combine_descriptions() function to each group in the DataFrame:\n",
    "combined_df = grouped_df.apply(combine_descriptions)"
   ]
  },
  {
   "cell_type": "code",
   "execution_count": null,
   "metadata": {},
   "outputs": [],
   "source": [
    "# Aggregate the legal descriptions using the apply() function. Use the apply() function to apply a custom function to each group. \n",
    "# The custom function should concatenate the legal descriptions for each group into a single string, separated by a comma.\n",
    "def combine_descriptions(group):\n",
    "    return \", \".join(group[\"Legal Description\"])\n",
    "\n",
    "combined_df = grouped_df.apply(combine_descriptions)\n",
    "combined_df.head"
   ]
  }
 ],
 "metadata": {
  "language_info": {
   "name": "python"
  },
  "orig_nbformat": 4
 },
 "nbformat": 4,
 "nbformat_minor": 2
}
